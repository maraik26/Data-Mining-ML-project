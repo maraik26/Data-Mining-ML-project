{
 "cells": [
  {
   "cell_type": "code",
   "execution_count": 2,
   "metadata": {
    "collapsed": true
   },
   "outputs": [],
   "source": [
    "import pandas as pd\n",
    "import random as rnd\n",
    "import math\n",
    "from math import*\n",
    "from operator import itemgetter\n",
    "import itertools\n",
    "import sys\n",
    "import pickle\n",
    "import numpy as np\n",
    "import warnings\n",
    "import matplotlib.pyplot as plt\n",
    "warnings.filterwarnings('ignore')\n",
    "%matplotlib inline"
   ]
  },
  {
   "cell_type": "code",
   "execution_count": 3,
   "metadata": {
    "collapsed": true
   },
   "outputs": [],
   "source": [
    "data=np.loadtxt(open('data-Assignment2.txt', 'rb'), delimiter = \",\")\n",
    "data = data[0:250,:]"
   ]
  },
  {
   "cell_type": "code",
   "execution_count": 4,
   "metadata": {},
   "outputs": [
    {
     "data": {
      "text/plain": [
       "(250, 1000)"
      ]
     },
     "execution_count": 4,
     "metadata": {},
     "output_type": "execute_result"
    }
   ],
   "source": [
    "data.shape"
   ]
  },
  {
   "cell_type": "code",
   "execution_count": 5,
   "metadata": {
    "collapsed": true
   },
   "outputs": [],
   "source": [
    "def jaccard_similarity(x,y):\n",
    "  \n",
    " intersection_cardinality = len(set.intersection(*[set(x), set(y)]))\n",
    " union_cardinality = len(set.union(*[set(x), set(y)]))\n",
    " return intersection_cardinality/float(union_cardinality)"
   ]
  },
  {
   "cell_type": "code",
   "execution_count": 6,
   "metadata": {},
   "outputs": [
    {
     "data": {
      "text/plain": [
       "1.0"
      ]
     },
     "execution_count": 6,
     "metadata": {},
     "output_type": "execute_result"
    }
   ],
   "source": [
    "jaccard_similarity(data[:,1], data[:,11])\n"
   ]
  },
  {
   "cell_type": "code",
   "execution_count": 7,
   "metadata": {
    "collapsed": true
   },
   "outputs": [],
   "source": [
    "def hash_minHash(x,var,cons,n):\n",
    "     return (var*x + cons) % n\n",
    "\n",
    "def generate_hash_functions_params(n):\n",
    "    hash_params = []\n",
    "\n",
    "    for i in range(n):\n",
    "        var = rnd.randint(0,1000)\n",
    "        cons = rnd.randint(0,1000)\n",
    "        hash_params.append([var,cons])\n",
    "    return hash_params\n",
    "\n",
    "def generate_hash_functions_vals(n,rowsnumber):\n",
    "    params = generate_hash_functions_params(n)\n",
    "    hash_funcsvals = []\n",
    "    for param in params:\n",
    "        hash_vals = [hash_minHash(m,param[0],param[1],rowsnumber) for m in range(0, rowsnumber)]\n",
    "        hash_funcsvals.append(hash_vals)\n",
    "    return(hash_funcsvals)\n",
    "    \n",
    "    "
   ]
  },
  {
   "cell_type": "code",
   "execution_count": 8,
   "metadata": {
    "collapsed": true
   },
   "outputs": [],
   "source": [
    "aa = generate_hash_functions_vals(10, 200)"
   ]
  },
  {
   "cell_type": "code",
   "execution_count": 9,
   "metadata": {},
   "outputs": [
    {
     "ename": "SyntaxError",
     "evalue": "invalid syntax (<ipython-input-9-f0ece71155cb>, line 1)",
     "output_type": "error",
     "traceback": [
      "\u001b[1;36m  File \u001b[1;32m\"<ipython-input-9-f0ece71155cb>\"\u001b[1;36m, line \u001b[1;32m1\u001b[0m\n\u001b[1;33m    aa[2]dd\u001b[0m\n\u001b[1;37m          ^\u001b[0m\n\u001b[1;31mSyntaxError\u001b[0m\u001b[1;31m:\u001b[0m invalid syntax\n"
     ]
    }
   ],
   "source": [
    "aa[2]dd"
   ]
  },
  {
   "cell_type": "code",
   "execution_count": null,
   "metadata": {},
   "outputs": [],
   "source": [
    "len(aa)"
   ]
  },
  {
   "cell_type": "code",
   "execution_count": null,
   "metadata": {
    "collapsed": true
   },
   "outputs": [],
   "source": [
    "def create_SIG(data, perm):\n",
    "    #create perm hash functions\n",
    "    rows = data.shape[0]\n",
    "    hash_funcsvals = generate_hash_functions_vals(perm, rows)\n",
    "    \n",
    "    \n",
    "    # initialize M (i,c)\n",
    "    SIG = np.zeros((perm, data.shape[1])) + float('inf')\n",
    "    \n",
    "    #loop over everything\n",
    "    for c in range(data.shape[1]):\n",
    "        for r in range(data.shape[0]):\n",
    "            if data[r,c] != 0:\n",
    "                for i in range(perm):\n",
    "                    hi = hash_funcsvals[i]\n",
    "                    SIG[i,c] = min(SIG[i,c],hi[r])\n",
    "    return(SIG)\n",
    "    \n",
    "    \n",
    "# for each row r \n",
    "#     for each column c \n",
    "# \t\tif c has 1 in row r \n",
    "# \t\t   for each hash function hi  do\n",
    "#  \t\tif hi (r ) is a smaller value than \t\t   M (i, c ) then\n",
    "# \t\t\tM (i, c ) := hi (r );"
   ]
  },
  {
   "cell_type": "code",
   "execution_count": null,
   "metadata": {
    "collapsed": true
   },
   "outputs": [],
   "source": [
    "bb = create_SIG(data, 100)"
   ]
  },
  {
   "cell_type": "code",
   "execution_count": null,
   "metadata": {},
   "outputs": [],
   "source": [
    "bb.shape"
   ]
  },
  {
   "cell_type": "code",
   "execution_count": null,
   "metadata": {},
   "outputs": [],
   "source": [
    "bb"
   ]
  },
  {
   "cell_type": "code",
   "execution_count": null,
   "metadata": {
    "collapsed": true
   },
   "outputs": [],
   "source": []
  },
  {
   "cell_type": "code",
   "execution_count": null,
   "metadata": {},
   "outputs": [],
   "source": [
    "data.shape[0]"
   ]
  },
  {
   "cell_type": "code",
   "execution_count": null,
   "metadata": {
    "collapsed": true
   },
   "outputs": [],
   "source": []
  },
  {
   "cell_type": "code",
   "execution_count": null,
   "metadata": {
    "collapsed": true
   },
   "outputs": [],
   "source": []
  },
  {
   "cell_type": "code",
   "execution_count": null,
   "metadata": {
    "collapsed": true
   },
   "outputs": [],
   "source": [
    "# def hash_minHash(x,var,cons,n):\n",
    "#     return (var*x + cons) % n\n",
    "\n",
    "# def generate_hash_functions(n):\n",
    "#     hash_funcs = []\n",
    "\n",
    "#     for i in range(n):\n",
    "#         var = rnd.randint(0,1000)\n",
    "#         cons = rnd.randint(0,1000)\n",
    "#         hash_funcs.append([var,cons])\n",
    "#     return hash_funcs"
   ]
  },
  {
   "cell_type": "code",
   "execution_count": null,
   "metadata": {
    "collapsed": true
   },
   "outputs": [],
   "source": [
    "# generate_hash_functions(100)"
   ]
  },
  {
   "cell_type": "code",
   "execution_count": null,
   "metadata": {
    "collapsed": true
   },
   "outputs": [],
   "source": [
    "# def compute_minHash_signatures(matrix,n):\n",
    "#     hash_funcs = generate_hash_functions(n)\n",
    "#     #hash_funcs = [[1,0],[3,1],[4,3],[2,1],[9,0]]\n",
    "    \n",
    "#     hash_value = []\n",
    "#     for func in hash_funcs:\n",
    "#         val = [hash_minHash(i,func[0],func[1],matrix.shape[0]) for i in range(matrix.shape[0])]\n",
    "#         hash_value.append(val)\n",
    "#     #print(hash_value)\n",
    "    \n",
    "#     #signature matrix (SIG)\n",
    "#     SIG = np.zeros((n,matrix.shape[1])) + float('inf')\n",
    "\n",
    "#     for c in range(matrix.shape[1]):\n",
    "#         for r in range(matrix.shape[0]):\n",
    "#             if matrix[r,c] != 0:\n",
    "#                 for i in range(n):\n",
    "#                     hi = hash_value[i]\n",
    "#                     SIG[i,c] = min(SIG[i,c],hi[r])\n",
    "#     return SIG\n",
    "# # print(SIG)\n",
    "    "
   ]
  },
  {
   "cell_type": "code",
   "execution_count": null,
   "metadata": {},
   "outputs": [],
   "source": [
    "print(SIG)\n",
    "\n"
   ]
  },
  {
   "cell_type": "code",
   "execution_count": null,
   "metadata": {
    "collapsed": true
   },
   "outputs": [],
   "source": [
    "len_buckets = 11 #choice a prime number\n",
    "hash_table = [[] for i in range(len_buckets)]"
   ]
  },
  {
   "cell_type": "code",
   "execution_count": null,
   "metadata": {
    "collapsed": true
   },
   "outputs": [],
   "source": [
    "ord(12)"
   ]
  },
  {
   "cell_type": "code",
   "execution_count": null,
   "metadata": {
    "collapsed": true
   },
   "outputs": [],
   "source": []
  },
  {
   "cell_type": "code",
   "execution_count": null,
   "metadata": {
    "collapsed": true
   },
   "outputs": [],
   "source": [
    "def initialize_array_bucket(bands):\n",
    "    global len_buckets\n",
    "    array_buckets = []\n",
    "    for band in range(bands):\n",
    "        array_buckets.append([[] for i in range(len_buckets)])\n",
    "    return array_buckets"
   ]
  },
  {
   "cell_type": "code",
   "execution_count": null,
   "metadata": {
    "collapsed": true
   },
   "outputs": [],
   "source": [
    "np.linspace(0,1,50)"
   ]
  },
  {
   "cell_type": "code",
   "execution_count": 19,
   "metadata": {},
   "outputs": [
    {
     "data": {
      "image/png": "[encoded data removed]",
      "text/plain": [
       "<matplotlib.figure.Figure at 0x688ca1b208>"
      ]
     },
     "metadata": {},
     "output_type": "display_data"
    }
   ],
   "source": [
    "s = np.linspace(0,1,100)\n",
    "def a(r,b, s):\n",
    "    return(1-(1-s**r)**b)\n",
    "\n",
    "plt.plot(s, a(4,125,s), 'r', label = 'b=125, r=4') \n",
    "plt.plot(s, a(5,100,s), 'b', label = 'b=100, r=5') \n",
    "plt.plot(s, a(10,50,s), 'g', label = 'b=50, r=10')\n",
    "plt.plot(s, a(20,25,s), 'c', label = 'b=25, r=20')  \n",
    "plt.plot(s, a(50,10,s), 'y', label = 'b=10, r=50')  \n",
    "plt.plot([0.3,0.3],[0.0, 1.0], label = 'Threshold = 0.3')\n",
    "plt.ylabel('Plot of sharing bucket')\n",
    "plt.title('S-curve')\n",
    "plt.xlabel('Simiilarity')\n",
    "plt.legend(bbox_to_anchor=(1,1), loc=1)\n",
    "plt.savefig('img500.png')\n"
   ]
  },
  {
   "cell_type": "code",
   "execution_count": null,
   "metadata": {
    "collapsed": true
   },
   "outputs": [],
   "source": [
    "(1-s**r)**2"
   ]
  },
  {
   "cell_type": "code",
   "execution_count": 16,
   "metadata": {},
   "outputs": [
    {
     "data": {
      "image/png": "[encoded data removed]",
      "text/plain": [
       "<matplotlib.figure.Figure at 0x688b10f588>"
      ]
     },
     "metadata": {},
     "output_type": "display_data"
    }
   ],
   "source": [
    "s = np.linspace(0,1,100)\n",
    "def a(r,b, s):\n",
    "    return(1-(1-s**r)**b)\n",
    "\n",
    "plt.plot(s, a(4,125,s), 'r') # plotting t, a separately \n",
    "plt.plot(s, a(5,100,s), 'b') # plotting t, a separately \n",
    "plt.plot(s, a(10,50,s), 'g') # plotting t, a separately \n",
    "plt.plot(s, a(20,25,s), 'c') # plotting t, a separately \n",
    "plt.plot(s, a(50,10,s), 'y') # plotting t, a separately \n",
    "# plt.plot(t, b, 'b') # plotting t, b separately \n",
    "# plt.plot(t, c, 'g') # plotting t, c separately \n",
    "plt.plot([0.3,0.3],[0.0, 1.0], label = 'Threshold = 0.3')\n",
    "plt.ylabel('Plot of sharing bucket')\n",
    "plt.title('S-curve')\n",
    "plt.xlabel('Simiilarity')\n",
    "plt.legend(bbox_to_anchor=(1,1), loc=1)\n",
    "plt.savefig('img500.png')\n"
   ]
  },
  {
   "cell_type": "code",
   "execution_count": null,
   "metadata": {
    "collapsed": true
   },
   "outputs": [],
   "source": []
  },
  {
   "cell_type": "code",
   "execution_count": null,
   "metadata": {
    "collapsed": true
   },
   "outputs": [],
   "source": []
  },
  {
   "cell_type": "code",
   "execution_count": null,
   "metadata": {
    "collapsed": true
   },
   "outputs": [],
   "source": []
  },
  {
   "cell_type": "code",
   "execution_count": null,
   "metadata": {
    "collapsed": true
   },
   "outputs": [],
   "source": []
  },
  {
   "cell_type": "code",
   "execution_count": 10,
   "metadata": {},
   "outputs": [
    {
     "data": {
      "text/plain": [
       "<matplotlib.legend.Legend at 0x689280a278>"
      ]
     },
     "execution_count": 10,
     "metadata": {},
     "output_type": "execute_result"
    },
    {
     "data": {
      "image/png": "[encoded data removed]",
      "text/plain": [
       "<matplotlib.figure.Figure at 0x68966e5780>"
      ]
     },
     "metadata": {},
     "output_type": "display_data"
    }
   ],
   "source": [
    "s = np.linspace(0,1,100)\n",
    "def a(r,b, s):\n",
    "    return(1-(1-s**r)**b)\n",
    "\n",
    "plt.plot(s, a(4,25,s), 'r') # plotting t, a separately \n",
    "plt.plot(s, a(5,20,s), 'b') # plotting t, a separately \n",
    "plt.plot(s, a(1,100,s), 'g') # plotting t, a separately \n",
    "plt.plot(s, a(10,10,s), 'c') # plotting t, a separately \n",
    "plt.plot(s, a(2,50,s), 'y') # plotting t, a separately \n",
    "# plt.plot(t, b, 'b') # plotting t, b separately \n",
    "# plt.plot(t, c, 'g') # plotting t, c separately \n",
    "plt.plot([0.3,0.3],[0.0, 1.0], label = 'Threshold = 0.3')\n",
    "plt.ylabel('Plot of sharing bucket')\n",
    "plt.title('S-curve')\n",
    "plt.xlabel('Simiilarity')\n",
    "plt.legend(bbox_to_anchor=(1,1), loc=1)\n"
   ]
  },
  {
   "cell_type": "code",
   "execution_count": null,
   "metadata": {},
   "outputs": [],
   "source": [
    "ii=0\n",
    "rrows=4\n",
    "SIG[ii:ii+rrows,:].shape"
   ]
  },
  {
   "cell_type": "code",
   "execution_count": null,
   "metadata": {},
   "outputs": [],
   "source": [
    "#5. Construct candidate pairs by applying the LSH technique of Section 3.4.1.\n",
    "#6. Examine each candidate pair's signatures and determine whether the fraction\n",
    "#of components in which they agree is at least t.\n",
    "#Pick a number of bands b and a number of rows r such that br = n,\n",
    "#and the threshold t is approximately (1/b)^1/r\n",
    "#WARNING ==> b*r = n\n",
    "\n",
    "def apply_LSH_technique(SIG,t=0.3,bands=25,rows=4):\n",
    "    if bands * rows != len(SIG):\n",
    "        raise 'bands*rows must be equals to n :: bands*rows = n !!!'\n",
    "    #print SIG\n",
    "    #print\n",
    "    array_buckets = initialize_array_bucket(bands)\n",
    "    #print array_buckets\n",
    "    hash_funcs = generate_hash_functions_params(bands)\n",
    "\n",
    "    candidate = {}\n",
    "#     TP = {}\n",
    "#     FP = {}  #not similar but declared\n",
    "    \n",
    "    i = 0\n",
    "    for b in range(bands):\n",
    "        buckets = array_buckets[b]        \n",
    "        band = SIG[i:i+rows,:]\n",
    "        for col in range(band.shape[1]):\n",
    "            #print(band[:,col])\n",
    "\n",
    "            #randomly generate\n",
    "            #key = 0\n",
    "            #for row in xrange(rows):\n",
    "            #    func = hash_funcs[row]\n",
    "            #    key += hash_minHash(band[row,col],func[0],func[1],len(buckets))\n",
    "            #key = int((key+sum(band[:,col])) % len(buckets))\n",
    "            #randomly generate\n",
    "            #func = hash_funcs[b]\n",
    "\n",
    "            #key = int(hash_minHash(sum(band[:,col]),func[0],func[1],len(buckets)))\n",
    "            #print 'key->',key\n",
    "            \n",
    "            key = int(sum(band[:,col]) % len(buckets))\n",
    "            #print(key)\n",
    "            buckets[key].append(col)\n",
    "        i = i+rows\n",
    "        \n",
    "        \n",
    "#         print(len(buckets))\n",
    "        #print('buckets #',b,buckets)\n",
    "#     for item in buckets:\n",
    "#         if len(item) > 1:\n",
    "#             pair = (item[0], item[1])\n",
    "#             if pair not in candidate:\n",
    "#                 A = SIG[:,item[0]]\n",
    "#                 B = SIG[:,item[1]]\n",
    "#                 similarity = jaccard_similarity(A,B)\n",
    "#                 if similarity >= 0.3:\n",
    "#                     candidate[pair] = similarity\n",
    "#                 else: \n",
    "#                     FP[pair]\n",
    "                    \n",
    "                    \n",
    "    #print \n",
    "    #sort = sorted(candidates.items(),key=itemgetter(1), reverse=True)\n",
    "    #print(len(item))\n",
    "    #print(candidates)\n",
    "    #print(n) \n",
    "    return candidate,sort\n",
    "        \n",
    "SIG = compute_minHash_signatures(data,10000)\n",
    "\n",
    "sort, candidate = apply_LSH_technique(SIG,0.3,25,4)\n"
   ]
  },
  {
   "cell_type": "code",
   "execution_count": null,
   "metadata": {},
   "outputs": [],
   "source": [
    "sort\n",
    "\n"
   ]
  },
  {
   "cell_type": "code",
   "execution_count": null,
   "metadata": {
    "collapsed": true
   },
   "outputs": [],
   "source": []
  },
  {
   "cell_type": "code",
   "execution_count": null,
   "metadata": {},
   "outputs": [],
   "source": [
    "len(data)\n"
   ]
  },
  {
   "cell_type": "code",
   "execution_count": null,
   "metadata": {},
   "outputs": [],
   "source": [
    "plt.plot([0.3,0.3],[0.0, 1.0], label = 'Threshold = 0.3')\n",
    "plt.ylabel('Plot of sharing bucket')\n",
    "plt.title('S-curve')\n",
    "plt.xlabel('Simiilarity')\n",
    "plt.legend(bbox_to_anchor=(1,1), loc=1)\n",
    "plt.show()"
   ]
  },
  {
   "cell_type": "code",
   "execution_count": null,
   "metadata": {
    "collapsed": true
   },
   "outputs": [],
   "source": [
    "data = data.transpose()"
   ]
  },
  {
   "cell_type": "code",
   "execution_count": null,
   "metadata": {},
   "outputs": [],
   "source": [
    "len(data)"
   ]
  },
  {
   "cell_type": "code",
   "execution_count": 21,
   "metadata": {},
   "outputs": [
    {
     "data": {
      "image/png": "[encoded data removed]",
      "text/plain": [
       "<matplotlib.figure.Figure at 0x688c57f048>"
      ]
     },
     "metadata": {},
     "output_type": "display_data"
    }
   ],
   "source": [
    "#Question 2: Draw the figure 1 for FP and figure 2 for FN in 5 for different choices of b\n",
    "\n",
    "FP100 = [165,469,4046, 19351, 33195]\n",
    "FN100 = [2874,2583,2734,1259, 994]\n",
    "b = [4,5,10,20,25]\n",
    "    \n",
    "plt.plot(b, FP100, 'r', label = 'FP_5')\n",
    "plt.plot(b, FN100, 'b', label = 'FN_5')\n",
    "\n",
    "plt.ylabel('FP and FN')\n",
    "plt.title('FP_FN_Question5')\n",
    "plt.xlabel('b')\n",
    "plt.legend(bbox_to_anchor=(1,1), loc=1)\n",
    "#plt.savefig('FP_FN100_5.png')\n",
    "plt.show()"
   ]
  },
  {
   "cell_type": "code",
   "execution_count": null,
   "metadata": {
    "collapsed": true
   },
   "outputs": [],
   "source": []
  }
 ],
 "metadata": {
  "kernelspec": {
   "display_name": "Python 3",
   "language": "python",
   "name": "python3"
  },
  "language_info": {
   "codemirror_mode": {
    "name": "ipython",
    "version": 3
   },
   "file_extension": ".py",
   "mimetype": "text/x-python",
   "name": "python",
   "nbconvert_exporter": "python",
   "pygments_lexer": "ipython3",
   "version": "3.6.3"
  }
 },
 "nbformat": 4,
 "nbformat_minor": 2
}
